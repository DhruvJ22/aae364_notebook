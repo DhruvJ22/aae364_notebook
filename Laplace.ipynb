{
 "cells": [
  {
   "cell_type": "code",
   "execution_count": 1,
   "metadata": {},
   "outputs": [
    {
     "name": "stdout",
     "output_type": "stream",
     "text": [
      "Populating the interactive namespace from numpy and matplotlib\n"
     ]
    }
   ],
   "source": [
    "%pylab inline\n",
    "import sympy\n",
    "sympy.init_printing()"
   ]
  },
  {
   "cell_type": "code",
   "execution_count": 2,
   "metadata": {},
   "outputs": [],
   "source": [
    "t, sigma, omega = sympy.symbols('t, sigma, omega')\n",
    "s = sympy.symbols('s', complex=True)"
   ]
  },
  {
   "cell_type": "code",
   "execution_count": 3,
   "metadata": {},
   "outputs": [
    {
     "data": {
      "image/png": "[encoded data removed]",
      "text/latex": [
       "$$\\int_{0}^{\\infty} t e^{- s t}\\, dt$$"
      ],
      "text/plain": [
       "∞           \n",
       "⌠           \n",
       "⎮    -s⋅t   \n",
       "⎮ t⋅ℯ     dt\n",
       "⌡           \n",
       "0           "
      ]
     },
     "execution_count": 3,
     "metadata": {},
     "output_type": "execute_result"
    }
   ],
   "source": [
    "def my_laplace_transform(f):\n",
    "    return sympy.Integral(f*sympy.exp(-s*t), (t, 0, sympy.oo))\n",
    "\n",
    "my_laplace_transform(t)"
   ]
  },
  {
   "cell_type": "code",
   "execution_count": 4,
   "metadata": {},
   "outputs": [
    {
     "data": {
      "text/latex": [
       "$$\\begin{cases} \\frac{1}{s^{2}} & \\text{for}\\: \\frac{\\pi}{2} > \\left|{\\arg{\\left (s \\right )}}\\right| \\\\\\int_{0}^{\\infty} t e^{- s t}\\, dt & \\text{otherwise} \\end{cases}$$"
      ],
      "text/plain": [
       "⎧     1            π           \n",
       "⎪     ──       for ─ > │arg(s)│\n",
       "⎪      2           2           \n",
       "⎪     s                        \n",
       "⎪                              \n",
       "⎨∞                             \n",
       "⎪⌠                             \n",
       "⎪⎮    -s⋅t                     \n",
       "⎪⎮ t⋅ℯ     dt     otherwise    \n",
       "⎪⌡                             \n",
       "⎩0                             "
      ]
     },
     "execution_count": 4,
     "metadata": {},
     "output_type": "execute_result"
    }
   ],
   "source": [
    "my_laplace_transform(t).doit()"
   ]
  },
  {
   "cell_type": "code",
   "execution_count": 5,
   "metadata": {},
   "outputs": [
    {
     "data": {
      "image/png": "[encoded data removed]",
      "text/latex": [
       "$$\\left ( \\frac{1}{s^{2}}, \\quad 0, \\quad \\mathrm{True}\\right )$$"
      ],
      "text/plain": [
       "⎛1          ⎞\n",
       "⎜──, 0, True⎟\n",
       "⎜ 2         ⎟\n",
       "⎝s          ⎠"
      ]
     },
     "execution_count": 5,
     "metadata": {},
     "output_type": "execute_result"
    }
   ],
   "source": [
    "sympy.laplace_transform(t, t, s)"
   ]
  },
  {
   "cell_type": "code",
   "execution_count": 6,
   "metadata": {},
   "outputs": [
    {
     "data": {
      "text/latex": [
       "$$\\begin{cases} \\frac{\\omega}{\\omega^{2} + s^{2}} & \\text{for}\\: 2 \\left|{\\arg{\\left (\\omega \\right )}}\\right| = 0 \\wedge \\pi > 2 \\left|{\\arg{\\left (s \\right )}}\\right| \\\\\\int_{0}^{\\infty} e^{- s t} \\sin{\\left (\\omega t \\right )}\\, dt & \\text{otherwise} \\end{cases}$$"
      ],
      "text/plain": [
       "⎧         ω                                              \n",
       "⎪      ───────        for 2⋅│arg(ω)│ = 0 ∧ π > 2⋅│arg(s)│\n",
       "⎪       2    2                                           \n",
       "⎪      ω  + s                                            \n",
       "⎪                                                        \n",
       "⎨∞                                                       \n",
       "⎪⌠                                                       \n",
       "⎪⎮  -s⋅t                                                 \n",
       "⎪⎮ ℯ    ⋅sin(ω⋅t) dt               otherwise             \n",
       "⎪⌡                                                       \n",
       "⎩0                                                       "
      ]
     },
     "execution_count": 6,
     "metadata": {},
     "output_type": "execute_result"
    }
   ],
   "source": [
    "omega = sympy.symbols('omega')\n",
    "my_laplace_transform(sympy.sin(omega*t)).doit().simplify()"
   ]
  },
  {
   "cell_type": "markdown",
   "metadata": {},
   "source": [
    "# Unit Step"
   ]
  },
  {
   "cell_type": "code",
   "execution_count": 7,
   "metadata": {},
   "outputs": [
    {
     "data": {
      "image/png": "[encoded data removed]",
      "text/latex": [
       "$$\\left ( \\frac{1}{s}, \\quad 0, \\quad \\mathrm{True}\\right )$$"
      ],
      "text/plain": [
       "⎛1         ⎞\n",
       "⎜─, 0, True⎟\n",
       "⎝s         ⎠"
      ]
     },
     "execution_count": 7,
     "metadata": {},
     "output_type": "execute_result"
    }
   ],
   "source": [
    "sympy.laplace_transform(1, t, s)"
   ]
  },
  {
   "cell_type": "code",
   "execution_count": 8,
   "metadata": {},
   "outputs": [
    {
     "data": {
      "image/png": "[encoded data removed]",
      "text/latex": [
       "$$\\left ( \\frac{e^{- 2 t}}{t}, \\quad 0, \\quad \\mathrm{True}\\right )$$"
      ],
      "text/plain": [
       "⎛ -2⋅t         ⎞\n",
       "⎜ℯ             ⎟\n",
       "⎜─────, 0, True⎟\n",
       "⎝  t           ⎠"
      ]
     },
     "execution_count": 8,
     "metadata": {},
     "output_type": "execute_result"
    }
   ],
   "source": [
    "y = sympy.exp(-2*t)\n",
    "sympy.laplace_transform(y, s, t)"
   ]
  },
  {
   "cell_type": "code",
   "execution_count": 9,
   "metadata": {},
   "outputs": [
    {
     "data": {
      "image/png": "[encoded data removed]",
      "text/plain": [
       "<Figure size 432x288 with 1 Axes>"
      ]
     },
     "metadata": {
      "needs_background": "light"
     },
     "output_type": "display_data"
    },
    {
     "data": {
      "text/plain": [
       "<sympy.plotting.plot.Plot at 0x7f7d20691898>"
      ]
     },
     "execution_count": 9,
     "metadata": {},
     "output_type": "execute_result"
    }
   ],
   "source": [
    "sympy.plot(y, (t, 0, 5))"
   ]
  },
  {
   "cell_type": "code",
   "execution_count": 10,
   "metadata": {},
   "outputs": [
    {
     "data": {
      "image/png": "[encoded data removed]",
      "text/latex": [
       "$$\\frac{1}{s + 2}$$"
      ],
      "text/plain": [
       "  1  \n",
       "─────\n",
       "s + 2"
      ]
     },
     "execution_count": 10,
     "metadata": {},
     "output_type": "execute_result"
    }
   ],
   "source": [
    "Y = sympy.laplace_transform(y, t, s)[0]\n",
    "Y"
   ]
  }
 ],
 "metadata": {
  "kernelspec": {
   "display_name": "Python 3",
   "language": "python",
   "name": "python3"
  },
  "language_info": {
   "codemirror_mode": {
    "name": "ipython",
    "version": 3
   },
   "file_extension": ".py",
   "mimetype": "text/x-python",
   "name": "python",
   "nbconvert_exporter": "python",
   "pygments_lexer": "ipython3",
   "version": "3.7.1"
  }
 },
 "nbformat": 4,
 "nbformat_minor": 2
}
